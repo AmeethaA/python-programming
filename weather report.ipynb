{
  "nbformat": 4,
  "nbformat_minor": 0,
  "metadata": {
    "colab": {
      "name": "lib.ipynb",
      "provenance": [],
      "collapsed_sections": []
    },
    "kernelspec": {
      "name": "python3",
      "display_name": "Python 3"
    },
    "language_info": {
      "name": "python"
    }
  },
  "cells": [
    {
      "cell_type": "code",
      "metadata": {
        "colab": {
          "base_uri": "https://localhost:8080/"
        },
        "id": "T84U_sI8-wDb",
        "outputId": "93072780-8f98-48fd-e9ce-ebcc427d8eed"
      },
      "source": [
        "print(\"hey\")"
      ],
      "execution_count": 7,
      "outputs": [
        {
          "output_type": "stream",
          "text": [
            "hey\n"
          ],
          "name": "stdout"
        }
      ]
    },
    {
      "cell_type": "code",
      "metadata": {
        "colab": {
          "base_uri": "https://localhost:8080/"
        },
        "id": "Lks4cWrHAEUd",
        "outputId": "97d3b28f-6718-48c4-aec0-bdfd518f69b0"
      },
      "source": [
        "!pip install word2word"
      ],
      "execution_count": 8,
      "outputs": [
        {
          "output_type": "stream",
          "text": [
            "Requirement already satisfied: word2word in /usr/local/lib/python3.7/dist-packages (1.0.0)\n",
            "Requirement already satisfied: numpy in /usr/local/lib/python3.7/dist-packages (from word2word) (1.19.5)\n",
            "Requirement already satisfied: requests in /usr/local/lib/python3.7/dist-packages (from word2word) (2.23.0)\n",
            "Requirement already satisfied: wget in /usr/local/lib/python3.7/dist-packages (from word2word) (3.2)\n",
            "Requirement already satisfied: tqdm in /usr/local/lib/python3.7/dist-packages (from word2word) (4.41.1)\n",
            "Requirement already satisfied: certifi>=2017.4.17 in /usr/local/lib/python3.7/dist-packages (from requests->word2word) (2021.5.30)\n",
            "Requirement already satisfied: idna<3,>=2.5 in /usr/local/lib/python3.7/dist-packages (from requests->word2word) (2.10)\n",
            "Requirement already satisfied: urllib3!=1.25.0,!=1.25.1,<1.26,>=1.21.1 in /usr/local/lib/python3.7/dist-packages (from requests->word2word) (1.24.3)\n",
            "Requirement already satisfied: chardet<4,>=3.0.2 in /usr/local/lib/python3.7/dist-packages (from requests->word2word) (3.0.4)\n"
          ],
          "name": "stdout"
        }
      ]
    },
    {
      "cell_type": "code",
      "metadata": {
        "colab": {
          "base_uri": "https://localhost:8080/",
          "height": 195
        },
        "id": "UXaR8bnJATjf",
        "outputId": "0aacfc39-8630-4a79-e299-0f767e553d6f"
      },
      "source": [
        "!from word2word import word2word\n",
        "en2fr = word2word(\"en\",\"hi\")\n",
        "print(en2fr(\"apple\"))\n"
      ],
      "execution_count": 9,
      "outputs": [
        {
          "output_type": "error",
          "ename": "TypeError",
          "evalue": "ignored",
          "traceback": [
            "\u001b[0;31m---------------------------------------------------------------------------\u001b[0m",
            "\u001b[0;31mTypeError\u001b[0m                                 Traceback (most recent call last)",
            "\u001b[0;32m<ipython-input-9-319bb4037304>\u001b[0m in \u001b[0;36m<module>\u001b[0;34m()\u001b[0m\n\u001b[1;32m      1\u001b[0m \u001b[0;32mfrom\u001b[0m \u001b[0mword2word\u001b[0m \u001b[0;32mimport\u001b[0m \u001b[0mword2word\u001b[0m\u001b[0;34m\u001b[0m\u001b[0;34m\u001b[0m\u001b[0m\n\u001b[0;32m----> 2\u001b[0;31m \u001b[0men2fr\u001b[0m \u001b[0;34m=\u001b[0m \u001b[0mword2word\u001b[0m\u001b[0;34m(\u001b[0m\u001b[0;34m\"en\"\u001b[0m\u001b[0;34m,\u001b[0m\u001b[0;34m\"hi\"\u001b[0m\u001b[0;34m)\u001b[0m\u001b[0;34m\u001b[0m\u001b[0;34m\u001b[0m\u001b[0m\n\u001b[0m\u001b[1;32m      3\u001b[0m \u001b[0mprint\u001b[0m\u001b[0;34m(\u001b[0m\u001b[0men2fr\u001b[0m\u001b[0;34m(\u001b[0m\u001b[0;34m\"apple\"\u001b[0m\u001b[0;34m)\u001b[0m\u001b[0;34m)\u001b[0m\u001b[0;34m\u001b[0m\u001b[0;34m\u001b[0m\u001b[0m\n",
            "\u001b[0;31mTypeError\u001b[0m: 'module' object is not callable"
          ]
        }
      ]
    },
    {
      "cell_type": "code",
      "metadata": {
        "colab": {
          "base_uri": "https://localhost:8080/"
        },
        "id": "1SR_vUxhBTKK",
        "outputId": "e10ea1fa-a2bb-43c1-cb2d-41e568d1d1c1"
      },
      "source": [
        "!pip installed marvelous"
      ],
      "execution_count": 10,
      "outputs": [
        {
          "output_type": "stream",
          "text": [
            "ERROR: unknown command \"installed\" - maybe you meant \"install\"\n"
          ],
          "name": "stdout"
        }
      ]
    },
    {
      "cell_type": "code",
      "metadata": {
        "colab": {
          "base_uri": "https://localhost:8080/"
        },
        "id": "EBD5-PqVDBrV",
        "outputId": "84c64b43-618e-4061-9c4c-ca5c92c13c34"
      },
      "source": [
        "temp = input(\"Input the  temperature you like to convert? (e.g., 45F, 102C etc.) : \")\n",
        "degree = int(temp[:-1])\n",
        "i_convention = temp[-1]\n",
        "\n",
        "if i_convention.upper() == \"C\":\n",
        "  result = int(round((9 * degree) / 5 + 32))\n",
        "  o_convention = \"Fahrenheit\"\n",
        "elif i_convention.upper() == \"F\":\n",
        "  result = int(round((degree - 32) * 5 / 9))\n",
        "  o_convention = \"Celsius\"\n",
        "else:\n",
        "  print(\"Input proper convention.\")\n",
        "  quit()\n",
        "print(\"The temperature in\", o_convention, \"is\", result, \"degrees.\")"
      ],
      "execution_count": 2,
      "outputs": [
        {
          "output_type": "stream",
          "text": [
            "Input the  temperature you like to convert? (e.g., 45F, 102C etc.) : 30F\n",
            "The temperature in Celsius is -1 degrees.\n"
          ],
          "name": "stdout"
        }
      ]
    },
    {
      "cell_type": "code",
      "metadata": {
        "id": "Z8OxMItAEBrR"
      },
      "source": [
        ""
      ],
      "execution_count": null,
      "outputs": []
    }
  ]
}